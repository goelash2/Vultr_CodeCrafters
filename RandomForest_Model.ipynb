{
 "cells": [
  {
   "cell_type": "code",
   "execution_count": 3,
   "id": "bfc3ccdb-b31f-465e-82cc-8785c9496e89",
   "metadata": {},
   "outputs": [
    {
     "name": "stdout",
     "output_type": "stream",
     "text": [
      "Accuracy: 66.00%\n",
      "\n",
      "Classification Report:\n",
      "              precision    recall  f1-score   support\n",
      "\n",
      "           0       0.33      0.11      0.17         9\n",
      "           1       0.83      0.90      0.87       105\n",
      "           2       0.43      0.47      0.45        55\n",
      "           3       0.43      0.33      0.38        30\n",
      "           4       0.00      0.00      0.00         1\n",
      "\n",
      "    accuracy                           0.66       200\n",
      "   macro avg       0.41      0.36      0.37       200\n",
      "weighted avg       0.64      0.66      0.64       200\n",
      "\n",
      "\n",
      "Feature Importances:\n",
      "Weight (kg): 0.2387\n",
      "Gestational Age (weeks): 0.1564\n",
      "Family History (1=yes, 0=no): 0.0572\n",
      "Blood Type of Baby: 0.0996\n",
      "Blood Type of Mother: 0.1106\n",
      "Baby Feeding Frequency: 0.0718\n",
      "Diaper Wetting Frequency: 0.0836\n",
      "Bruises (1=yes, 0=no): 0.0674\n",
      "Race: 0.1148\n"
     ]
    },
    {
     "name": "stderr",
     "output_type": "stream",
     "text": [
      "C:\\Users\\goela\\anaconda3\\Lib\\site-packages\\sklearn\\metrics\\_classification.py:1509: UndefinedMetricWarning: Precision is ill-defined and being set to 0.0 in labels with no predicted samples. Use `zero_division` parameter to control this behavior.\n",
      "  _warn_prf(average, modifier, f\"{metric.capitalize()} is\", len(result))\n",
      "C:\\Users\\goela\\anaconda3\\Lib\\site-packages\\sklearn\\metrics\\_classification.py:1509: UndefinedMetricWarning: Precision is ill-defined and being set to 0.0 in labels with no predicted samples. Use `zero_division` parameter to control this behavior.\n",
      "  _warn_prf(average, modifier, f\"{metric.capitalize()} is\", len(result))\n",
      "C:\\Users\\goela\\anaconda3\\Lib\\site-packages\\sklearn\\metrics\\_classification.py:1509: UndefinedMetricWarning: Precision is ill-defined and being set to 0.0 in labels with no predicted samples. Use `zero_division` parameter to control this behavior.\n",
      "  _warn_prf(average, modifier, f\"{metric.capitalize()} is\", len(result))\n"
     ]
    }
   ],
   "source": [
    "import pandas as pd\n",
    "import joblib\n",
    "from sklearn.model_selection import train_test_split\n",
    "from sklearn.ensemble import RandomForestClassifier\n",
    "from sklearn.metrics import classification_report, accuracy_score\n",
    "from sklearn.preprocessing import LabelEncoder\n",
    "\n",
    "df = pd.read_csv('jaundice_risk_dataset.csv')\n",
    "\n",
    "# Encode categorical columns (Blood Type, Baby Feeding Frequency, Diaper Wetting Frequency, Race, Jaundice Risk)\n",
    "label_encoder = LabelEncoder()\n",
    "\n",
    "# Encode categorical columns for input features\n",
    "df[\"Blood Type of Baby\"] = label_encoder.fit_transform(df[\"Blood Type of Baby\"])\n",
    "df[\"Blood Type of Mother\"] = label_encoder.fit_transform(df[\"Blood Type of Mother\"])\n",
    "df[\"Baby Feeding Frequency\"] = label_encoder.fit_transform(df[\"Baby Feeding Frequency\"])\n",
    "df[\"Diaper Wetting Frequency\"] = label_encoder.fit_transform(df[\"Diaper Wetting Frequency\"])\n",
    "df[\"Race\"] = label_encoder.fit_transform(df[\"Race\"])\n",
    "\n",
    "# Encode target column (Jaundice Risk)\n",
    "df[\"Jaundice Risk\"] = label_encoder.fit_transform(df[\"Jaundice Risk\"])\n",
    "\n",
    "# Separate features (X) and target (y)\n",
    "X = df.drop(\"Jaundice Risk\", axis=1)  # Features\n",
    "y = df[\"Jaundice Risk\"]  # Target\n",
    "\n",
    "# Split the dataset into training (80%) and testing (20%) sets\n",
    "X_train, X_test, y_train, y_test = train_test_split(X, y, test_size=0.2, random_state=42)\n",
    "\n",
    "# Initialize the Random Forest model\n",
    "rf_model = RandomForestClassifier(n_estimators=100, random_state=42)\n",
    "\n",
    "# Train the model\n",
    "rf_model.fit(X_train, y_train)\n",
    "\n",
    "joblib.dump(rf_model, 'RandomForest_Model.pkl')\n",
    "\n",
    "# Make predictions on the test set\n",
    "y_pred = rf_model.predict(X_test)\n",
    "\n",
    "# Evaluate the model\n",
    "accuracy = accuracy_score(y_test, y_pred)\n",
    "print(f\"Accuracy: {accuracy * 100:.2f}%\")\n",
    "\n",
    "# Classification Report (includes precision, recall, f1-score)\n",
    "print(\"\\nClassification Report:\")\n",
    "print(classification_report(y_test, y_pred))\n",
    "\n",
    "# Feature Importances\n",
    "print(\"\\nFeature Importances:\")\n",
    "importances = rf_model.feature_importances_\n",
    "for feature, importance in zip(X.columns, importances):\n",
    "    print(f\"{feature}: {importance:.4f}\")\n",
    "    "
   ]
  }
 ],
 "metadata": {
  "kernelspec": {
   "display_name": "Python 3 (ipykernel)",
   "language": "python",
   "name": "python3"
  },
  "language_info": {
   "codemirror_mode": {
    "name": "ipython",
    "version": 3
   },
   "file_extension": ".py",
   "mimetype": "text/x-python",
   "name": "python",
   "nbconvert_exporter": "python",
   "pygments_lexer": "ipython3",
   "version": "3.12.4"
  }
 },
 "nbformat": 4,
 "nbformat_minor": 5
}
